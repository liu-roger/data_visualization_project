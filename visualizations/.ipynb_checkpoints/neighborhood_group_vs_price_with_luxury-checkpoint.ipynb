{
 "cells": [
  {
   "cell_type": "markdown",
   "id": "c89a35f3",
   "metadata": {},
   "source": [
    "# Preparing the Dataset"
   ]
  },
  {
   "cell_type": "code",
   "execution_count": 1,
   "id": "92ea8cd0",
   "metadata": {},
   "outputs": [],
   "source": [
    "import pandas as pd\n",
    "import numpy as np\n",
    "from matplotlib import pyplot as plt\n",
    "plt.style.use('ggplot')\n",
    "import seaborn as sns\n",
    "import geopandas as gpd\n",
    "import geoplot as gplt\n",
    "from shapely.geometry import Point\n",
    "import geoplot.crs as gcrs\n",
    "import contextily as cx\n",
    "from geopandas.tools import overlay\n",
    "import mapclassify as mc\n",
    "import warnings\n",
    "warnings.filterwarnings('ignore')"
   ]
  },
  {
   "cell_type": "code",
   "execution_count": 2,
   "id": "6d21b0fc",
   "metadata": {},
   "outputs": [],
   "source": [
    "# Kept the original dataset\n",
    "listingsNYC = pd.read_csv('listings.csv', dtype=object)\n",
    "# Dropping all of the columns which we will not use\n",
    "# listingsNYC= listingsNYC.drop(['last_review','license','latitude','longitude','host_name'], axis=1)\n",
    "\n",
    "# Dropping all rows with any 'Nan' values in them\n",
    "# listingsNYC.dropna(axis=0, how='any', inplace=True)\n",
    "data_types_dict = {\n",
    "    'price':'int64', \n",
    "    'minimum_nights':'int64', \n",
    "    'host_id':str,\n",
    "    'number_of_reviews':'int64',\n",
    "    'reviews_per_month':float,\n",
    "    'calculated_host_listings_count':'int64',\n",
    "    'availability_365':'int64',\n",
    "    'number_of_reviews_ltm':'int64',\n",
    "    'latitude':float,\n",
    "    'longitude':float\n",
    "}\n",
    "\n",
    "#changing all the datatype to their respective types that we can work with\n",
    "listingsNYC = listingsNYC.astype(data_types_dict)\n",
    "\n",
    "# creating a price per stay (ppn) column with the price and minimim nights columns and rounding to 2 decimal places. \n",
    "# This is a float dtype \n",
    "listingsNYC['pps'] = (listingsNYC['price'] * listingsNYC['minimum_nights']).round(2)\n",
    "listingsNYC['neighbourhood'].unique().shape[0]\n",
    "listingsNYC.describe()\n",
    "listingsNYC['annual_revenue'] = (365 - listingsNYC['availability_365']) *  listingsNYC['price']\n",
    "listingsNYC = listingsNYC[(listingsNYC['price'] != 0)]\n",
    "listingsNYC.loc[:,'log_price']=np.log(listingsNYC['price'])\n",
    "listingsNYC.loc[:,'log_pps']=np.log(listingsNYC['pps'])\n",
    "# listingsNYC['price_bin'] = pd.cut(listingsNYC['price'], bins=range(0, 111, 10), right=False, labels=range(0, 110, 10))\n",
    "df = listingsNYC[(listingsNYC['price']<2000) & (listingsNYC['price']>20) & (listingsNYC['minimum_nights'] < 30)]\n",
    "df['price_bin'] = pd.cut(df['price'], bins=range(0, 2001, 20), right=False, labels=range(0, 2000, 20))"
   ]
  },
  {
   "cell_type": "code",
   "execution_count": 3,
   "id": "0c7eab95-2155-4c4c-a1a7-35e3333d4bf8",
   "metadata": {},
   "outputs": [],
   "source": [
    "price_df = df[['neighbourhood_group','room_type','price']]\n",
    "\n",
    "brooklyn_home = price_df[(price_df['neighbourhood_group']=='Brooklyn') & (price_df['room_type']=='Entire home/apt')]\n",
    "brooklyn_private = price_df[(price_df['neighbourhood_group']=='Brooklyn') & (price_df['room_type']=='Private room')]\n",
    "brooklyn_hotel = price_df[(price_df['neighbourhood_group']=='Brooklyn') & (price_df['room_type']=='Hotel room')]\n",
    "brooklyn_shared = price_df[(price_df['neighbourhood_group']=='Brooklyn') & (price_df['room_type']=='Shared room')]\n",
    "\n",
    "\n",
    "manhattan_home = price_df[(price_df['neighbourhood_group']=='Manhattan')  & (price_df['room_type']=='Entire home/apt')]\n",
    "manhattan_private = price_df[(price_df['neighbourhood_group']=='Manhattan') & (price_df['room_type']=='Private room')]\n",
    "manhattan_hotel = price_df[(price_df['neighbourhood_group']=='Manhattan') & (price_df['room_type']=='Hotel room')]\n",
    "manhattan_shared = price_df[(price_df['neighbourhood_group']=='Manhattan') & (price_df['room_type']=='Shared room')]\n",
    "\n",
    "queens_home = price_df[(price_df['neighbourhood_group']=='Queens')  & (price_df['room_type']=='Entire home/apt')]\n",
    "queens_private = price_df[(price_df['neighbourhood_group']=='Queens') & (price_df['room_type']=='Private room')]\n",
    "queens_hotel = price_df[(price_df['neighbourhood_group']=='Queens') & (price_df['room_type']=='Hotel room')]\n",
    "queens_shared = price_df[(price_df['neighbourhood_group']=='Queens') & (price_df['room_type']=='Shared room')]\n",
    "\n",
    "bronx_home = price_df[(price_df['neighbourhood_group']=='Bronx')  & (price_df['room_type']=='Entire home/apt')]\n",
    "bronx_private = price_df[(price_df['neighbourhood_group']=='Bronx') & (price_df['room_type']=='Private room')]\n",
    "bronx_hotel = price_df[(price_df['neighbourhood_group']=='Bronx') & (price_df['room_type']=='Hotel room')]\n",
    "bronx_shared = price_df[(price_df['neighbourhood_group']=='Bronx') & (price_df['room_type']=='Shared room')]\n",
    "\n",
    "staten_island_home = price_df[(price_df['neighbourhood_group']=='Staten Island')  & (price_df['room_type']=='Entire home/apt')]\n",
    "staten_island_private = price_df[(price_df['neighbourhood_group']=='Staten Island') & (price_df['room_type']=='Private room')]\n",
    "staten_island_hotel = price_df[(price_df['neighbourhood_group']=='Staten Island') & (price_df['room_type']=='Hotel room')]\n",
    "staten_island_shared = price_df[(price_df['neighbourhood_group']=='Staten Island') & (price_df['room_type']=='Shared room')]\n"
   ]
  },
  {
   "cell_type": "code",
   "execution_count": 4,
   "id": "724c7a98-7978-42b7-ab6f-43ee8c333e09",
   "metadata": {},
   "outputs": [],
   "source": [
    "brooklyn_home_mean = float(brooklyn_home.mean())\n",
    "brooklyn_private_mean = float(brooklyn_private.mean())\n",
    "brooklyn_hotel_mean = float(brooklyn_hotel.mean())\n",
    "brooklyn_shared_mean = float(brooklyn_shared.mean())\n",
    "\n",
    "\n",
    "manhattan_home_mean = float(manhattan_home.mean())\n",
    "manhattan_private_mean = float(manhattan_private.mean())\n",
    "manhattan_hotel_mean = float(manhattan_hotel.mean())\n",
    "manhattan_shared_mean = float(manhattan_shared.mean())\n",
    "\n",
    "queens_home_mean = float(queens_home.mean())\n",
    "queens_private_mean = float(queens_private.mean())\n",
    "queens_hotel_mean = float(queens_hotel.mean())\n",
    "queens_shared_mean = float(queens_shared.mean())\n",
    "\n",
    "bronx_home_mean = float(bronx_home.mean())\n",
    "bronx_private_mean = float(bronx_private.mean())\n",
    "# bronx_hotel_mean = float(bronx_hotel.mean())\n",
    "bronx_shared_mean = float(bronx_shared.mean())\n",
    "\n",
    "staten_island_home_mean = float(staten_island_home.mean())\n",
    "staten_island_private_mean = float(staten_island_private.mean())\n",
    "# staten_island_hotel_mean = float(staten_island_hotel.mean())\n",
    "staten_island_shared_mean = float(staten_island_shared.mean())"
   ]
  },
  {
   "cell_type": "code",
   "execution_count": 5,
   "id": "ff0bce61-275b-488e-b8ae-e24f98209e02",
   "metadata": {},
   "outputs": [],
   "source": [
    "brooklyn_home_std = float(brooklyn_home.std())\n",
    "brooklyn_private_std = float(brooklyn_private.std())\n",
    "brooklyn_hotel_std = float(brooklyn_hotel.std())\n",
    "brooklyn_shared_std = float(brooklyn_shared.std())\n",
    "\n",
    "\n",
    "manhattan_home_std = float(manhattan_home.std())\n",
    "manhattan_private_std = float(manhattan_private.std())\n",
    "manhattan_hotel_std = float(manhattan_hotel.std())\n",
    "manhattan_shared_std = float(manhattan_shared.std())\n",
    "\n",
    "queens_home_std = float(queens_home.std())\n",
    "queens_private_std = float(queens_private.std())\n",
    "queens_hotel_std = float(queens_hotel.std())\n",
    "queens_shared_std = float(queens_shared.std())\n",
    "\n",
    "bronx_home_std = float(bronx_home.std())\n",
    "bronx_private_std = float(bronx_private.std())\n",
    "# bronx_hotel_std = float(bronx_hotel.std())\n",
    "bronx_shared_std = float(bronx_shared.std())\n",
    "\n",
    "staten_island_home_std = float(staten_island_home.std())\n",
    "staten_island_private_std = float(staten_island_private.std())\n",
    "# staten_island_hotel_std = float(staten_island_hotel.std())\n",
    "staten_island_shared_std = float(staten_island_shared.std())"
   ]
  },
  {
   "cell_type": "code",
   "execution_count": 6,
   "id": "52977831-011d-47f1-aeab-1d88e55fbf59",
   "metadata": {},
   "outputs": [],
   "source": [
    "df['neighborhood_group_room_type_mean'] = [0] * len(df)\n",
    "df['neighborhood_group_room_type_std'] = [0] * len(df)"
   ]
  },
  {
   "cell_type": "code",
   "execution_count": 7,
   "id": "9e593dff-5d91-4f8e-ba1b-b247ac2c7a64",
   "metadata": {},
   "outputs": [
    {
     "data": {
      "text/html": [
       "<div>\n",
       "<style scoped>\n",
       "    .dataframe tbody tr th:only-of-type {\n",
       "        vertical-align: middle;\n",
       "    }\n",
       "\n",
       "    .dataframe tbody tr th {\n",
       "        vertical-align: top;\n",
       "    }\n",
       "\n",
       "    .dataframe thead th {\n",
       "        text-align: right;\n",
       "    }\n",
       "</style>\n",
       "<table border=\"1\" class=\"dataframe\">\n",
       "  <thead>\n",
       "    <tr style=\"text-align: right;\">\n",
       "      <th></th>\n",
       "      <th>id</th>\n",
       "      <th>name</th>\n",
       "      <th>host_id</th>\n",
       "      <th>host_name</th>\n",
       "      <th>neighbourhood_group</th>\n",
       "      <th>neighbourhood</th>\n",
       "      <th>latitude</th>\n",
       "      <th>longitude</th>\n",
       "      <th>room_type</th>\n",
       "      <th>price</th>\n",
       "      <th>...</th>\n",
       "      <th>availability_365</th>\n",
       "      <th>number_of_reviews_ltm</th>\n",
       "      <th>license</th>\n",
       "      <th>pps</th>\n",
       "      <th>annual_revenue</th>\n",
       "      <th>log_price</th>\n",
       "      <th>log_pps</th>\n",
       "      <th>price_bin</th>\n",
       "      <th>neighborhood_group_room_type_mean</th>\n",
       "      <th>neighborhood_group_room_type_std</th>\n",
       "    </tr>\n",
       "  </thead>\n",
       "  <tbody>\n",
       "    <tr>\n",
       "      <th>0</th>\n",
       "      <td>5136</td>\n",
       "      <td>Spacious Brooklyn Duplex, Patio + Garden</td>\n",
       "      <td>7378</td>\n",
       "      <td>Rebecca</td>\n",
       "      <td>Brooklyn</td>\n",
       "      <td>Sunset Park</td>\n",
       "      <td>40.662650</td>\n",
       "      <td>-73.994540</td>\n",
       "      <td>Entire home/apt</td>\n",
       "      <td>275</td>\n",
       "      <td>...</td>\n",
       "      <td>267</td>\n",
       "      <td>1</td>\n",
       "      <td>NaN</td>\n",
       "      <td>5775</td>\n",
       "      <td>26950</td>\n",
       "      <td>5.616771</td>\n",
       "      <td>8.661294</td>\n",
       "      <td>260</td>\n",
       "      <td>235.798218</td>\n",
       "      <td>0</td>\n",
       "    </tr>\n",
       "    <tr>\n",
       "      <th>1</th>\n",
       "      <td>5203</td>\n",
       "      <td>Cozy Clean Guest Room - Family Apt</td>\n",
       "      <td>7490</td>\n",
       "      <td>MaryEllen</td>\n",
       "      <td>Manhattan</td>\n",
       "      <td>Upper West Side</td>\n",
       "      <td>40.803800</td>\n",
       "      <td>-73.967510</td>\n",
       "      <td>Private room</td>\n",
       "      <td>75</td>\n",
       "      <td>...</td>\n",
       "      <td>0</td>\n",
       "      <td>0</td>\n",
       "      <td>NaN</td>\n",
       "      <td>150</td>\n",
       "      <td>27375</td>\n",
       "      <td>4.317488</td>\n",
       "      <td>5.010635</td>\n",
       "      <td>60</td>\n",
       "      <td>300.856827</td>\n",
       "      <td>0</td>\n",
       "    </tr>\n",
       "    <tr>\n",
       "      <th>3</th>\n",
       "      <td>5178</td>\n",
       "      <td>Large Furnished Room Near B'way</td>\n",
       "      <td>8967</td>\n",
       "      <td>Shunichi</td>\n",
       "      <td>Manhattan</td>\n",
       "      <td>Midtown</td>\n",
       "      <td>40.764570</td>\n",
       "      <td>-73.983170</td>\n",
       "      <td>Private room</td>\n",
       "      <td>68</td>\n",
       "      <td>...</td>\n",
       "      <td>79</td>\n",
       "      <td>50</td>\n",
       "      <td>NaN</td>\n",
       "      <td>136</td>\n",
       "      <td>19448</td>\n",
       "      <td>4.219508</td>\n",
       "      <td>4.912655</td>\n",
       "      <td>60</td>\n",
       "      <td>300.856827</td>\n",
       "      <td>0</td>\n",
       "    </tr>\n",
       "    <tr>\n",
       "      <th>6</th>\n",
       "      <td>5803</td>\n",
       "      <td>Lovely Room 1 in BEST AREA; Legal Rental, Spot...</td>\n",
       "      <td>9744</td>\n",
       "      <td>Laurie</td>\n",
       "      <td>Brooklyn</td>\n",
       "      <td>South Slope</td>\n",
       "      <td>40.668010</td>\n",
       "      <td>-73.987840</td>\n",
       "      <td>Private room</td>\n",
       "      <td>124</td>\n",
       "      <td>...</td>\n",
       "      <td>163</td>\n",
       "      <td>14</td>\n",
       "      <td>NaN</td>\n",
       "      <td>496</td>\n",
       "      <td>25048</td>\n",
       "      <td>4.820282</td>\n",
       "      <td>6.206576</td>\n",
       "      <td>120</td>\n",
       "      <td>103.223430</td>\n",
       "      <td>0</td>\n",
       "    </tr>\n",
       "    <tr>\n",
       "      <th>8</th>\n",
       "      <td>7097</td>\n",
       "      <td>Perfect for Your Parents:  Privacy + Garden</td>\n",
       "      <td>17571</td>\n",
       "      <td>Jane</td>\n",
       "      <td>Brooklyn</td>\n",
       "      <td>Fort Greene</td>\n",
       "      <td>40.691233</td>\n",
       "      <td>-73.972702</td>\n",
       "      <td>Entire home/apt</td>\n",
       "      <td>220</td>\n",
       "      <td>...</td>\n",
       "      <td>38</td>\n",
       "      <td>36</td>\n",
       "      <td>NaN</td>\n",
       "      <td>660</td>\n",
       "      <td>71940</td>\n",
       "      <td>5.393628</td>\n",
       "      <td>6.492240</td>\n",
       "      <td>220</td>\n",
       "      <td>235.798218</td>\n",
       "      <td>0</td>\n",
       "    </tr>\n",
       "    <tr>\n",
       "      <th>...</th>\n",
       "      <td>...</td>\n",
       "      <td>...</td>\n",
       "      <td>...</td>\n",
       "      <td>...</td>\n",
       "      <td>...</td>\n",
       "      <td>...</td>\n",
       "      <td>...</td>\n",
       "      <td>...</td>\n",
       "      <td>...</td>\n",
       "      <td>...</td>\n",
       "      <td>...</td>\n",
       "      <td>...</td>\n",
       "      <td>...</td>\n",
       "      <td>...</td>\n",
       "      <td>...</td>\n",
       "      <td>...</td>\n",
       "      <td>...</td>\n",
       "      <td>...</td>\n",
       "      <td>...</td>\n",
       "      <td>...</td>\n",
       "      <td>...</td>\n",
       "    </tr>\n",
       "    <tr>\n",
       "      <th>41525</th>\n",
       "      <td>772714221060214808</td>\n",
       "      <td>Good Vibes at The Bronx</td>\n",
       "      <td>421264574</td>\n",
       "      <td>Aridio</td>\n",
       "      <td>Bronx</td>\n",
       "      <td>Unionport</td>\n",
       "      <td>40.828074</td>\n",
       "      <td>-73.847886</td>\n",
       "      <td>Entire home/apt</td>\n",
       "      <td>125</td>\n",
       "      <td>...</td>\n",
       "      <td>60</td>\n",
       "      <td>0</td>\n",
       "      <td>NaN</td>\n",
       "      <td>250</td>\n",
       "      <td>38125</td>\n",
       "      <td>4.828314</td>\n",
       "      <td>5.521461</td>\n",
       "      <td>120</td>\n",
       "      <td>163.684932</td>\n",
       "      <td>0</td>\n",
       "    </tr>\n",
       "    <tr>\n",
       "      <th>41526</th>\n",
       "      <td>772716724205003579</td>\n",
       "      <td>2 bedroom Condo near West Village</td>\n",
       "      <td>481177884</td>\n",
       "      <td>Steven</td>\n",
       "      <td>Manhattan</td>\n",
       "      <td>Chelsea</td>\n",
       "      <td>40.740030</td>\n",
       "      <td>-73.997302</td>\n",
       "      <td>Entire home/apt</td>\n",
       "      <td>1114</td>\n",
       "      <td>...</td>\n",
       "      <td>355</td>\n",
       "      <td>0</td>\n",
       "      <td>NaN</td>\n",
       "      <td>3342</td>\n",
       "      <td>11140</td>\n",
       "      <td>7.015712</td>\n",
       "      <td>8.114325</td>\n",
       "      <td>1100</td>\n",
       "      <td>349.695143</td>\n",
       "      <td>0</td>\n",
       "    </tr>\n",
       "    <tr>\n",
       "      <th>41527</th>\n",
       "      <td>771961589340472067</td>\n",
       "      <td>Habitación Privada</td>\n",
       "      <td>409771624</td>\n",
       "      <td>Camila</td>\n",
       "      <td>Queens</td>\n",
       "      <td>Sunnyside</td>\n",
       "      <td>40.742223</td>\n",
       "      <td>-73.923310</td>\n",
       "      <td>Private room</td>\n",
       "      <td>124</td>\n",
       "      <td>...</td>\n",
       "      <td>360</td>\n",
       "      <td>0</td>\n",
       "      <td>NaN</td>\n",
       "      <td>248</td>\n",
       "      <td>620</td>\n",
       "      <td>4.820282</td>\n",
       "      <td>5.513429</td>\n",
       "      <td>120</td>\n",
       "      <td>91.758048</td>\n",
       "      <td>0</td>\n",
       "    </tr>\n",
       "    <tr>\n",
       "      <th>41528</th>\n",
       "      <td>771962449581256963</td>\n",
       "      <td>Romántico y natural</td>\n",
       "      <td>421601513</td>\n",
       "      <td>Juan Carlos</td>\n",
       "      <td>Manhattan</td>\n",
       "      <td>Washington Heights</td>\n",
       "      <td>40.847271</td>\n",
       "      <td>-73.943419</td>\n",
       "      <td>Private room</td>\n",
       "      <td>80</td>\n",
       "      <td>...</td>\n",
       "      <td>358</td>\n",
       "      <td>0</td>\n",
       "      <td>NaN</td>\n",
       "      <td>400</td>\n",
       "      <td>560</td>\n",
       "      <td>4.382027</td>\n",
       "      <td>5.991465</td>\n",
       "      <td>80</td>\n",
       "      <td>300.856827</td>\n",
       "      <td>0</td>\n",
       "    </tr>\n",
       "    <tr>\n",
       "      <th>41532</th>\n",
       "      <td>771975190766692224</td>\n",
       "      <td>Lovely  Big Studio for Rental Bronx City</td>\n",
       "      <td>426540801</td>\n",
       "      <td>Abul</td>\n",
       "      <td>Bronx</td>\n",
       "      <td>Unionport</td>\n",
       "      <td>40.832824</td>\n",
       "      <td>-73.852371</td>\n",
       "      <td>Entire home/apt</td>\n",
       "      <td>80</td>\n",
       "      <td>...</td>\n",
       "      <td>365</td>\n",
       "      <td>0</td>\n",
       "      <td>NaN</td>\n",
       "      <td>240</td>\n",
       "      <td>0</td>\n",
       "      <td>4.382027</td>\n",
       "      <td>5.480639</td>\n",
       "      <td>80</td>\n",
       "      <td>163.684932</td>\n",
       "      <td>0</td>\n",
       "    </tr>\n",
       "  </tbody>\n",
       "</table>\n",
       "<p>21690 rows × 25 columns</p>\n",
       "</div>"
      ],
      "text/plain": [
       "                       id                                               name  \\\n",
       "0                    5136           Spacious Brooklyn Duplex, Patio + Garden   \n",
       "1                    5203                 Cozy Clean Guest Room - Family Apt   \n",
       "3                    5178                   Large Furnished Room Near B'way　   \n",
       "6                    5803  Lovely Room 1 in BEST AREA; Legal Rental, Spot...   \n",
       "8                    7097        Perfect for Your Parents:  Privacy + Garden   \n",
       "...                   ...                                                ...   \n",
       "41525  772714221060214808                            Good Vibes at The Bronx   \n",
       "41526  772716724205003579                  2 bedroom Condo near West Village   \n",
       "41527  771961589340472067                                 Habitación Privada   \n",
       "41528  771962449581256963                                Romántico y natural   \n",
       "41532  771975190766692224           Lovely  Big Studio for Rental Bronx City   \n",
       "\n",
       "         host_id    host_name neighbourhood_group       neighbourhood  \\\n",
       "0           7378      Rebecca            Brooklyn         Sunset Park   \n",
       "1           7490    MaryEllen           Manhattan     Upper West Side   \n",
       "3           8967     Shunichi           Manhattan             Midtown   \n",
       "6           9744       Laurie            Brooklyn         South Slope   \n",
       "8          17571         Jane            Brooklyn         Fort Greene   \n",
       "...          ...          ...                 ...                 ...   \n",
       "41525  421264574       Aridio               Bronx           Unionport   \n",
       "41526  481177884       Steven           Manhattan             Chelsea   \n",
       "41527  409771624       Camila              Queens           Sunnyside   \n",
       "41528  421601513  Juan Carlos           Manhattan  Washington Heights   \n",
       "41532  426540801         Abul               Bronx           Unionport   \n",
       "\n",
       "        latitude  longitude        room_type  price  ...  availability_365  \\\n",
       "0      40.662650 -73.994540  Entire home/apt    275  ...               267   \n",
       "1      40.803800 -73.967510     Private room     75  ...                 0   \n",
       "3      40.764570 -73.983170     Private room     68  ...                79   \n",
       "6      40.668010 -73.987840     Private room    124  ...               163   \n",
       "8      40.691233 -73.972702  Entire home/apt    220  ...                38   \n",
       "...          ...        ...              ...    ...  ...               ...   \n",
       "41525  40.828074 -73.847886  Entire home/apt    125  ...                60   \n",
       "41526  40.740030 -73.997302  Entire home/apt   1114  ...               355   \n",
       "41527  40.742223 -73.923310     Private room    124  ...               360   \n",
       "41528  40.847271 -73.943419     Private room     80  ...               358   \n",
       "41532  40.832824 -73.852371  Entire home/apt     80  ...               365   \n",
       "\n",
       "       number_of_reviews_ltm license   pps  annual_revenue  log_price  \\\n",
       "0                          1     NaN  5775           26950   5.616771   \n",
       "1                          0     NaN   150           27375   4.317488   \n",
       "3                         50     NaN   136           19448   4.219508   \n",
       "6                         14     NaN   496           25048   4.820282   \n",
       "8                         36     NaN   660           71940   5.393628   \n",
       "...                      ...     ...   ...             ...        ...   \n",
       "41525                      0     NaN   250           38125   4.828314   \n",
       "41526                      0     NaN  3342           11140   7.015712   \n",
       "41527                      0     NaN   248             620   4.820282   \n",
       "41528                      0     NaN   400             560   4.382027   \n",
       "41532                      0     NaN   240               0   4.382027   \n",
       "\n",
       "        log_pps price_bin  neighborhood_group_room_type_mean  \\\n",
       "0      8.661294       260                         235.798218   \n",
       "1      5.010635        60                         300.856827   \n",
       "3      4.912655        60                         300.856827   \n",
       "6      6.206576       120                         103.223430   \n",
       "8      6.492240       220                         235.798218   \n",
       "...         ...       ...                                ...   \n",
       "41525  5.521461       120                         163.684932   \n",
       "41526  8.114325      1100                         349.695143   \n",
       "41527  5.513429       120                          91.758048   \n",
       "41528  5.991465        80                         300.856827   \n",
       "41532  5.480639        80                         163.684932   \n",
       "\n",
       "       neighborhood_group_room_type_std  \n",
       "0                                     0  \n",
       "1                                     0  \n",
       "3                                     0  \n",
       "6                                     0  \n",
       "8                                     0  \n",
       "...                                 ...  \n",
       "41525                                 0  \n",
       "41526                                 0  \n",
       "41527                                 0  \n",
       "41528                                 0  \n",
       "41532                                 0  \n",
       "\n",
       "[21690 rows x 25 columns]"
      ]
     },
     "execution_count": 7,
     "metadata": {},
     "output_type": "execute_result"
    }
   ],
   "source": [
    "df.loc[(df['neighbourhood_group']=='Brooklyn') & (df['room_type']=='Entire home/apt'),'neighborhood_group_room_type_mean']=brooklyn_home_mean\n",
    "df.loc[(df['neighbourhood_group']=='Brooklyn') & (df['room_type']=='Private room'),'neighborhood_group_room_type_mean']=brooklyn_private_mean\n",
    "df.loc[(df['neighbourhood_group']=='Brooklyn') & (df['room_type']=='Hotel room'),'neighborhood_group_room_type_mean']=brooklyn_hotel_mean\n",
    "df.loc[(df['neighbourhood_group']=='Brooklyn') & (df['room_type']=='Shared room'),'neighborhood_group_room_type_mean']=brooklyn_shared_mean\n",
    "\n",
    "\n",
    "df.loc[(df['neighbourhood_group']=='Manhattan')  & (df['room_type']=='Entire home/apt'),'neighborhood_group_room_type_mean']=manhattan_home_mean\n",
    "df.loc[(df['neighbourhood_group']=='Manhattan') & (df['room_type']=='Private room'),'neighborhood_group_room_type_mean']=manhattan_private_mean\n",
    "df.loc[(df['neighbourhood_group']=='Manhattan') & (df['room_type']=='Hotel room'),'neighborhood_group_room_type_mean']=manhattan_hotel_mean\n",
    "df.loc[(df['neighbourhood_group']=='Manhattan') & (df['room_type']=='Shared room'),'neighborhood_group_room_type_mean']=manhattan_shared_mean\n",
    "\n",
    "df.loc[(df['neighbourhood_group']=='Queens')  & (df['room_type']=='Entire home/apt'),'neighborhood_group_room_type_mean']=queens_home_mean\n",
    "df.loc[(df['neighbourhood_group']=='Queens') & (df['room_type']=='Private room'),'neighborhood_group_room_type_mean']=queens_private_mean\n",
    "df.loc[(df['neighbourhood_group']=='Queens') & (df['room_type']=='Hotel room'),'neighborhood_group_room_type_mean']=queens_hotel_mean\n",
    "df.loc[(df['neighbourhood_group']=='Queens') & (df['room_type']=='Shared room'),'neighborhood_group_room_type_mean']=queens_shared_mean\n",
    "\n",
    "df.loc[(df['neighbourhood_group']=='Bronx')  & (df['room_type']=='Entire home/apt'),'neighborhood_group_room_type_mean']=bronx_home_mean\n",
    "df.loc[(df['neighbourhood_group']=='Bronx') & (df['room_type']=='Private room'),'neighborhood_group_room_type_mean']=bronx_private_mean\n",
    "df.loc[(df['neighbourhood_group']=='Bronx') & (df['room_type']=='Shared room'),'neighborhood_group_room_type_mean']=bronx_shared_mean\n",
    "\n",
    "df.loc[(df['neighbourhood_group']=='Staten Island')  & (df['room_type']=='Entire home/apt'),'neighborhood_group_room_type_mean']=staten_island_home_mean\n",
    "df.loc[(df['neighbourhood_group']=='Staten Island') & (df['room_type']=='Private room'),'neighborhood_group_room_type_mean']=staten_island_private_mean\n",
    "df.loc[(df['neighbourhood_group']=='Staten Island') & (df['room_type']=='Shared room'),'neighborhood_group_room_type_mean']=staten_island_shared_mean\n",
    "df"
   ]
  },
  {
   "cell_type": "code",
   "execution_count": 8,
   "id": "7d27c0e1-8984-4f8f-a219-344877907451",
   "metadata": {},
   "outputs": [
    {
     "data": {
      "text/html": [
       "<div>\n",
       "<style scoped>\n",
       "    .dataframe tbody tr th:only-of-type {\n",
       "        vertical-align: middle;\n",
       "    }\n",
       "\n",
       "    .dataframe tbody tr th {\n",
       "        vertical-align: top;\n",
       "    }\n",
       "\n",
       "    .dataframe thead th {\n",
       "        text-align: right;\n",
       "    }\n",
       "</style>\n",
       "<table border=\"1\" class=\"dataframe\">\n",
       "  <thead>\n",
       "    <tr style=\"text-align: right;\">\n",
       "      <th></th>\n",
       "      <th>id</th>\n",
       "      <th>name</th>\n",
       "      <th>host_id</th>\n",
       "      <th>host_name</th>\n",
       "      <th>neighbourhood_group</th>\n",
       "      <th>neighbourhood</th>\n",
       "      <th>latitude</th>\n",
       "      <th>longitude</th>\n",
       "      <th>room_type</th>\n",
       "      <th>price</th>\n",
       "      <th>...</th>\n",
       "      <th>availability_365</th>\n",
       "      <th>number_of_reviews_ltm</th>\n",
       "      <th>license</th>\n",
       "      <th>pps</th>\n",
       "      <th>annual_revenue</th>\n",
       "      <th>log_price</th>\n",
       "      <th>log_pps</th>\n",
       "      <th>price_bin</th>\n",
       "      <th>neighborhood_group_room_type_mean</th>\n",
       "      <th>neighborhood_group_room_type_std</th>\n",
       "    </tr>\n",
       "  </thead>\n",
       "  <tbody>\n",
       "    <tr>\n",
       "      <th>0</th>\n",
       "      <td>5136</td>\n",
       "      <td>Spacious Brooklyn Duplex, Patio + Garden</td>\n",
       "      <td>7378</td>\n",
       "      <td>Rebecca</td>\n",
       "      <td>Brooklyn</td>\n",
       "      <td>Sunset Park</td>\n",
       "      <td>40.662650</td>\n",
       "      <td>-73.994540</td>\n",
       "      <td>Entire home/apt</td>\n",
       "      <td>275</td>\n",
       "      <td>...</td>\n",
       "      <td>267</td>\n",
       "      <td>1</td>\n",
       "      <td>NaN</td>\n",
       "      <td>5775</td>\n",
       "      <td>26950</td>\n",
       "      <td>5.616771</td>\n",
       "      <td>8.661294</td>\n",
       "      <td>260</td>\n",
       "      <td>235.798218</td>\n",
       "      <td>166.921832</td>\n",
       "    </tr>\n",
       "    <tr>\n",
       "      <th>1</th>\n",
       "      <td>5203</td>\n",
       "      <td>Cozy Clean Guest Room - Family Apt</td>\n",
       "      <td>7490</td>\n",
       "      <td>MaryEllen</td>\n",
       "      <td>Manhattan</td>\n",
       "      <td>Upper West Side</td>\n",
       "      <td>40.803800</td>\n",
       "      <td>-73.967510</td>\n",
       "      <td>Private room</td>\n",
       "      <td>75</td>\n",
       "      <td>...</td>\n",
       "      <td>0</td>\n",
       "      <td>0</td>\n",
       "      <td>NaN</td>\n",
       "      <td>150</td>\n",
       "      <td>27375</td>\n",
       "      <td>4.317488</td>\n",
       "      <td>5.010635</td>\n",
       "      <td>60</td>\n",
       "      <td>300.856827</td>\n",
       "      <td>358.688003</td>\n",
       "    </tr>\n",
       "    <tr>\n",
       "      <th>3</th>\n",
       "      <td>5178</td>\n",
       "      <td>Large Furnished Room Near B'way</td>\n",
       "      <td>8967</td>\n",
       "      <td>Shunichi</td>\n",
       "      <td>Manhattan</td>\n",
       "      <td>Midtown</td>\n",
       "      <td>40.764570</td>\n",
       "      <td>-73.983170</td>\n",
       "      <td>Private room</td>\n",
       "      <td>68</td>\n",
       "      <td>...</td>\n",
       "      <td>79</td>\n",
       "      <td>50</td>\n",
       "      <td>NaN</td>\n",
       "      <td>136</td>\n",
       "      <td>19448</td>\n",
       "      <td>4.219508</td>\n",
       "      <td>4.912655</td>\n",
       "      <td>60</td>\n",
       "      <td>300.856827</td>\n",
       "      <td>358.688003</td>\n",
       "    </tr>\n",
       "    <tr>\n",
       "      <th>6</th>\n",
       "      <td>5803</td>\n",
       "      <td>Lovely Room 1 in BEST AREA; Legal Rental, Spot...</td>\n",
       "      <td>9744</td>\n",
       "      <td>Laurie</td>\n",
       "      <td>Brooklyn</td>\n",
       "      <td>South Slope</td>\n",
       "      <td>40.668010</td>\n",
       "      <td>-73.987840</td>\n",
       "      <td>Private room</td>\n",
       "      <td>124</td>\n",
       "      <td>...</td>\n",
       "      <td>163</td>\n",
       "      <td>14</td>\n",
       "      <td>NaN</td>\n",
       "      <td>496</td>\n",
       "      <td>25048</td>\n",
       "      <td>4.820282</td>\n",
       "      <td>6.206576</td>\n",
       "      <td>120</td>\n",
       "      <td>103.223430</td>\n",
       "      <td>97.745150</td>\n",
       "    </tr>\n",
       "    <tr>\n",
       "      <th>8</th>\n",
       "      <td>7097</td>\n",
       "      <td>Perfect for Your Parents:  Privacy + Garden</td>\n",
       "      <td>17571</td>\n",
       "      <td>Jane</td>\n",
       "      <td>Brooklyn</td>\n",
       "      <td>Fort Greene</td>\n",
       "      <td>40.691233</td>\n",
       "      <td>-73.972702</td>\n",
       "      <td>Entire home/apt</td>\n",
       "      <td>220</td>\n",
       "      <td>...</td>\n",
       "      <td>38</td>\n",
       "      <td>36</td>\n",
       "      <td>NaN</td>\n",
       "      <td>660</td>\n",
       "      <td>71940</td>\n",
       "      <td>5.393628</td>\n",
       "      <td>6.492240</td>\n",
       "      <td>220</td>\n",
       "      <td>235.798218</td>\n",
       "      <td>166.921832</td>\n",
       "    </tr>\n",
       "    <tr>\n",
       "      <th>...</th>\n",
       "      <td>...</td>\n",
       "      <td>...</td>\n",
       "      <td>...</td>\n",
       "      <td>...</td>\n",
       "      <td>...</td>\n",
       "      <td>...</td>\n",
       "      <td>...</td>\n",
       "      <td>...</td>\n",
       "      <td>...</td>\n",
       "      <td>...</td>\n",
       "      <td>...</td>\n",
       "      <td>...</td>\n",
       "      <td>...</td>\n",
       "      <td>...</td>\n",
       "      <td>...</td>\n",
       "      <td>...</td>\n",
       "      <td>...</td>\n",
       "      <td>...</td>\n",
       "      <td>...</td>\n",
       "      <td>...</td>\n",
       "      <td>...</td>\n",
       "    </tr>\n",
       "    <tr>\n",
       "      <th>41525</th>\n",
       "      <td>772714221060214808</td>\n",
       "      <td>Good Vibes at The Bronx</td>\n",
       "      <td>421264574</td>\n",
       "      <td>Aridio</td>\n",
       "      <td>Bronx</td>\n",
       "      <td>Unionport</td>\n",
       "      <td>40.828074</td>\n",
       "      <td>-73.847886</td>\n",
       "      <td>Entire home/apt</td>\n",
       "      <td>125</td>\n",
       "      <td>...</td>\n",
       "      <td>60</td>\n",
       "      <td>0</td>\n",
       "      <td>NaN</td>\n",
       "      <td>250</td>\n",
       "      <td>38125</td>\n",
       "      <td>4.828314</td>\n",
       "      <td>5.521461</td>\n",
       "      <td>120</td>\n",
       "      <td>163.684932</td>\n",
       "      <td>91.153067</td>\n",
       "    </tr>\n",
       "    <tr>\n",
       "      <th>41526</th>\n",
       "      <td>772716724205003579</td>\n",
       "      <td>2 bedroom Condo near West Village</td>\n",
       "      <td>481177884</td>\n",
       "      <td>Steven</td>\n",
       "      <td>Manhattan</td>\n",
       "      <td>Chelsea</td>\n",
       "      <td>40.740030</td>\n",
       "      <td>-73.997302</td>\n",
       "      <td>Entire home/apt</td>\n",
       "      <td>1114</td>\n",
       "      <td>...</td>\n",
       "      <td>355</td>\n",
       "      <td>0</td>\n",
       "      <td>NaN</td>\n",
       "      <td>3342</td>\n",
       "      <td>11140</td>\n",
       "      <td>7.015712</td>\n",
       "      <td>8.114325</td>\n",
       "      <td>1100</td>\n",
       "      <td>349.695143</td>\n",
       "      <td>263.065421</td>\n",
       "    </tr>\n",
       "    <tr>\n",
       "      <th>41527</th>\n",
       "      <td>771961589340472067</td>\n",
       "      <td>Habitación Privada</td>\n",
       "      <td>409771624</td>\n",
       "      <td>Camila</td>\n",
       "      <td>Queens</td>\n",
       "      <td>Sunnyside</td>\n",
       "      <td>40.742223</td>\n",
       "      <td>-73.923310</td>\n",
       "      <td>Private room</td>\n",
       "      <td>124</td>\n",
       "      <td>...</td>\n",
       "      <td>360</td>\n",
       "      <td>0</td>\n",
       "      <td>NaN</td>\n",
       "      <td>248</td>\n",
       "      <td>620</td>\n",
       "      <td>4.820282</td>\n",
       "      <td>5.513429</td>\n",
       "      <td>120</td>\n",
       "      <td>91.758048</td>\n",
       "      <td>69.393339</td>\n",
       "    </tr>\n",
       "    <tr>\n",
       "      <th>41528</th>\n",
       "      <td>771962449581256963</td>\n",
       "      <td>Romántico y natural</td>\n",
       "      <td>421601513</td>\n",
       "      <td>Juan Carlos</td>\n",
       "      <td>Manhattan</td>\n",
       "      <td>Washington Heights</td>\n",
       "      <td>40.847271</td>\n",
       "      <td>-73.943419</td>\n",
       "      <td>Private room</td>\n",
       "      <td>80</td>\n",
       "      <td>...</td>\n",
       "      <td>358</td>\n",
       "      <td>0</td>\n",
       "      <td>NaN</td>\n",
       "      <td>400</td>\n",
       "      <td>560</td>\n",
       "      <td>4.382027</td>\n",
       "      <td>5.991465</td>\n",
       "      <td>80</td>\n",
       "      <td>300.856827</td>\n",
       "      <td>358.688003</td>\n",
       "    </tr>\n",
       "    <tr>\n",
       "      <th>41532</th>\n",
       "      <td>771975190766692224</td>\n",
       "      <td>Lovely  Big Studio for Rental Bronx City</td>\n",
       "      <td>426540801</td>\n",
       "      <td>Abul</td>\n",
       "      <td>Bronx</td>\n",
       "      <td>Unionport</td>\n",
       "      <td>40.832824</td>\n",
       "      <td>-73.852371</td>\n",
       "      <td>Entire home/apt</td>\n",
       "      <td>80</td>\n",
       "      <td>...</td>\n",
       "      <td>365</td>\n",
       "      <td>0</td>\n",
       "      <td>NaN</td>\n",
       "      <td>240</td>\n",
       "      <td>0</td>\n",
       "      <td>4.382027</td>\n",
       "      <td>5.480639</td>\n",
       "      <td>80</td>\n",
       "      <td>163.684932</td>\n",
       "      <td>91.153067</td>\n",
       "    </tr>\n",
       "  </tbody>\n",
       "</table>\n",
       "<p>21690 rows × 25 columns</p>\n",
       "</div>"
      ],
      "text/plain": [
       "                       id                                               name  \\\n",
       "0                    5136           Spacious Brooklyn Duplex, Patio + Garden   \n",
       "1                    5203                 Cozy Clean Guest Room - Family Apt   \n",
       "3                    5178                   Large Furnished Room Near B'way　   \n",
       "6                    5803  Lovely Room 1 in BEST AREA; Legal Rental, Spot...   \n",
       "8                    7097        Perfect for Your Parents:  Privacy + Garden   \n",
       "...                   ...                                                ...   \n",
       "41525  772714221060214808                            Good Vibes at The Bronx   \n",
       "41526  772716724205003579                  2 bedroom Condo near West Village   \n",
       "41527  771961589340472067                                 Habitación Privada   \n",
       "41528  771962449581256963                                Romántico y natural   \n",
       "41532  771975190766692224           Lovely  Big Studio for Rental Bronx City   \n",
       "\n",
       "         host_id    host_name neighbourhood_group       neighbourhood  \\\n",
       "0           7378      Rebecca            Brooklyn         Sunset Park   \n",
       "1           7490    MaryEllen           Manhattan     Upper West Side   \n",
       "3           8967     Shunichi           Manhattan             Midtown   \n",
       "6           9744       Laurie            Brooklyn         South Slope   \n",
       "8          17571         Jane            Brooklyn         Fort Greene   \n",
       "...          ...          ...                 ...                 ...   \n",
       "41525  421264574       Aridio               Bronx           Unionport   \n",
       "41526  481177884       Steven           Manhattan             Chelsea   \n",
       "41527  409771624       Camila              Queens           Sunnyside   \n",
       "41528  421601513  Juan Carlos           Manhattan  Washington Heights   \n",
       "41532  426540801         Abul               Bronx           Unionport   \n",
       "\n",
       "        latitude  longitude        room_type  price  ...  availability_365  \\\n",
       "0      40.662650 -73.994540  Entire home/apt    275  ...               267   \n",
       "1      40.803800 -73.967510     Private room     75  ...                 0   \n",
       "3      40.764570 -73.983170     Private room     68  ...                79   \n",
       "6      40.668010 -73.987840     Private room    124  ...               163   \n",
       "8      40.691233 -73.972702  Entire home/apt    220  ...                38   \n",
       "...          ...        ...              ...    ...  ...               ...   \n",
       "41525  40.828074 -73.847886  Entire home/apt    125  ...                60   \n",
       "41526  40.740030 -73.997302  Entire home/apt   1114  ...               355   \n",
       "41527  40.742223 -73.923310     Private room    124  ...               360   \n",
       "41528  40.847271 -73.943419     Private room     80  ...               358   \n",
       "41532  40.832824 -73.852371  Entire home/apt     80  ...               365   \n",
       "\n",
       "       number_of_reviews_ltm license   pps  annual_revenue  log_price  \\\n",
       "0                          1     NaN  5775           26950   5.616771   \n",
       "1                          0     NaN   150           27375   4.317488   \n",
       "3                         50     NaN   136           19448   4.219508   \n",
       "6                         14     NaN   496           25048   4.820282   \n",
       "8                         36     NaN   660           71940   5.393628   \n",
       "...                      ...     ...   ...             ...        ...   \n",
       "41525                      0     NaN   250           38125   4.828314   \n",
       "41526                      0     NaN  3342           11140   7.015712   \n",
       "41527                      0     NaN   248             620   4.820282   \n",
       "41528                      0     NaN   400             560   4.382027   \n",
       "41532                      0     NaN   240               0   4.382027   \n",
       "\n",
       "        log_pps price_bin  neighborhood_group_room_type_mean  \\\n",
       "0      8.661294       260                         235.798218   \n",
       "1      5.010635        60                         300.856827   \n",
       "3      4.912655        60                         300.856827   \n",
       "6      6.206576       120                         103.223430   \n",
       "8      6.492240       220                         235.798218   \n",
       "...         ...       ...                                ...   \n",
       "41525  5.521461       120                         163.684932   \n",
       "41526  8.114325      1100                         349.695143   \n",
       "41527  5.513429       120                          91.758048   \n",
       "41528  5.991465        80                         300.856827   \n",
       "41532  5.480639        80                         163.684932   \n",
       "\n",
       "       neighborhood_group_room_type_std  \n",
       "0                            166.921832  \n",
       "1                            358.688003  \n",
       "3                            358.688003  \n",
       "6                             97.745150  \n",
       "8                            166.921832  \n",
       "...                                 ...  \n",
       "41525                         91.153067  \n",
       "41526                        263.065421  \n",
       "41527                         69.393339  \n",
       "41528                        358.688003  \n",
       "41532                         91.153067  \n",
       "\n",
       "[21690 rows x 25 columns]"
      ]
     },
     "execution_count": 8,
     "metadata": {},
     "output_type": "execute_result"
    }
   ],
   "source": [
    "df.loc[(df['neighbourhood_group']=='Brooklyn') & (df['room_type']=='Entire home/apt'),'neighborhood_group_room_type_std']=brooklyn_home_std\n",
    "df.loc[(df['neighbourhood_group']=='Brooklyn') & (df['room_type']=='Private room'),'neighborhood_group_room_type_std']=brooklyn_private_std\n",
    "df.loc[(df['neighbourhood_group']=='Brooklyn') & (df['room_type']=='Hotel room'),'neighborhood_group_room_type_std']=brooklyn_hotel_std\n",
    "df.loc[(df['neighbourhood_group']=='Brooklyn') & (df['room_type']=='Shared room'),'neighborhood_group_room_type_std']=brooklyn_shared_std\n",
    "\n",
    "\n",
    "df.loc[(df['neighbourhood_group']=='Manhattan')  & (df['room_type']=='Entire home/apt'),'neighborhood_group_room_type_std']=manhattan_home_std\n",
    "df.loc[(df['neighbourhood_group']=='Manhattan') & (df['room_type']=='Private room'),'neighborhood_group_room_type_std']=manhattan_private_std\n",
    "df.loc[(df['neighbourhood_group']=='Manhattan') & (df['room_type']=='Hotel room'),'neighborhood_group_room_type_std']=manhattan_hotel_std\n",
    "df.loc[(df['neighbourhood_group']=='Manhattan') & (df['room_type']=='Shared room'),'neighborhood_group_room_type_std']=manhattan_shared_std\n",
    "\n",
    "df.loc[(df['neighbourhood_group']=='Queens')  & (df['room_type']=='Entire home/apt'),'neighborhood_group_room_type_std']=queens_home_std\n",
    "df.loc[(df['neighbourhood_group']=='Queens') & (df['room_type']=='Private room'),'neighborhood_group_room_type_std']=queens_private_std\n",
    "df.loc[(df['neighbourhood_group']=='Queens') & (df['room_type']=='Hotel room'),'neighborhood_group_room_type_std']=queens_hotel_std\n",
    "df.loc[(df['neighbourhood_group']=='Queens') & (df['room_type']=='Shared room'),'neighborhood_group_room_type_std']=queens_shared_std\n",
    "\n",
    "df.loc[(df['neighbourhood_group']=='Bronx')  & (df['room_type']=='Entire home/apt'),'neighborhood_group_room_type_std']=bronx_home_std\n",
    "df.loc[(df['neighbourhood_group']=='Bronx') & (df['room_type']=='Private room'),'neighborhood_group_room_type_std']=bronx_private_std\n",
    "df.loc[(df['neighbourhood_group']=='Bronx') & (df['room_type']=='Shared room'),'neighborhood_group_room_type_std']=bronx_shared_std\n",
    "\n",
    "df.loc[(df['neighbourhood_group']=='Staten Island')  & (df['room_type']=='Entire home/apt'),'neighborhood_group_room_type_std']=staten_island_home_std\n",
    "df.loc[(df['neighbourhood_group']=='Staten Island') & (df['room_type']=='Private room'),'neighborhood_group_room_type_std']=staten_island_private_std\n",
    "df.loc[(df['neighbourhood_group']=='Staten Island') & (df['room_type']=='Shared room'),'neighborhood_group_room_type_std']=staten_island_shared_std\n",
    "df"
   ]
  },
  {
   "cell_type": "code",
   "execution_count": 30,
   "id": "38f44cf5-667a-4210-b52a-1bd8b0e9e9b1",
   "metadata": {},
   "outputs": [],
   "source": [
    "df.loc[:,'is_budget'] = (df['price'] - df['neighborhood_group_room_type_mean']) / df['neighborhood_group_room_type_std'] <= 0.5\n",
    "df.loc[:,'is_luxury'] = (df['price'] - df['neighborhood_group_room_type_mean']) / df['neighborhood_group_room_type_std'] > 0.5"
   ]
  },
  {
   "cell_type": "code",
   "execution_count": 34,
   "id": "6a015d37-3e02-46d1-ae94-ca12752120d0",
   "metadata": {},
   "outputs": [
    {
     "data": {
      "text/html": [
       "<div>\n",
       "<style scoped>\n",
       "    .dataframe tbody tr th:only-of-type {\n",
       "        vertical-align: middle;\n",
       "    }\n",
       "\n",
       "    .dataframe tbody tr th {\n",
       "        vertical-align: top;\n",
       "    }\n",
       "\n",
       "    .dataframe thead th {\n",
       "        text-align: right;\n",
       "    }\n",
       "</style>\n",
       "<table border=\"1\" class=\"dataframe\">\n",
       "  <thead>\n",
       "    <tr style=\"text-align: right;\">\n",
       "      <th></th>\n",
       "      <th>latitude</th>\n",
       "      <th>longitude</th>\n",
       "      <th>price</th>\n",
       "      <th>minimum_nights</th>\n",
       "      <th>number_of_reviews</th>\n",
       "      <th>reviews_per_month</th>\n",
       "      <th>calculated_host_listings_count</th>\n",
       "      <th>availability_365</th>\n",
       "      <th>number_of_reviews_ltm</th>\n",
       "      <th>pps</th>\n",
       "      <th>annual_revenue</th>\n",
       "      <th>log_price</th>\n",
       "      <th>log_pps</th>\n",
       "      <th>neighborhood_group_room_type_mean</th>\n",
       "      <th>neighborhood_group_room_type_std</th>\n",
       "    </tr>\n",
       "  </thead>\n",
       "  <tbody>\n",
       "    <tr>\n",
       "      <th>count</th>\n",
       "      <td>87.000000</td>\n",
       "      <td>87.000000</td>\n",
       "      <td>87.000000</td>\n",
       "      <td>87.000000</td>\n",
       "      <td>87.000000</td>\n",
       "      <td>57.000000</td>\n",
       "      <td>87.000000</td>\n",
       "      <td>87.000000</td>\n",
       "      <td>87.000000</td>\n",
       "      <td>87.000000</td>\n",
       "      <td>87.000000</td>\n",
       "      <td>87.000000</td>\n",
       "      <td>87.000000</td>\n",
       "      <td>8.700000e+01</td>\n",
       "      <td>8.700000e+01</td>\n",
       "    </tr>\n",
       "    <tr>\n",
       "      <th>mean</th>\n",
       "      <td>40.838534</td>\n",
       "      <td>-73.884493</td>\n",
       "      <td>165.931034</td>\n",
       "      <td>2.160920</td>\n",
       "      <td>9.954023</td>\n",
       "      <td>1.030877</td>\n",
       "      <td>3.873563</td>\n",
       "      <td>223.839080</td>\n",
       "      <td>4.747126</td>\n",
       "      <td>364.413793</td>\n",
       "      <td>24550.160920</td>\n",
       "      <td>5.035416</td>\n",
       "      <td>5.503511</td>\n",
       "      <td>7.949264e+01</td>\n",
       "      <td>5.083817e+01</td>\n",
       "    </tr>\n",
       "    <tr>\n",
       "      <th>std</th>\n",
       "      <td>0.024980</td>\n",
       "      <td>0.036303</td>\n",
       "      <td>89.419288</td>\n",
       "      <td>2.166733</td>\n",
       "      <td>17.162634</td>\n",
       "      <td>1.072592</td>\n",
       "      <td>5.956830</td>\n",
       "      <td>153.997952</td>\n",
       "      <td>9.570082</td>\n",
       "      <td>426.388254</td>\n",
       "      <td>39896.638194</td>\n",
       "      <td>0.343730</td>\n",
       "      <td>0.799668</td>\n",
       "      <td>1.000527e-13</td>\n",
       "      <td>1.429324e-14</td>\n",
       "    </tr>\n",
       "    <tr>\n",
       "      <th>min</th>\n",
       "      <td>40.806563</td>\n",
       "      <td>-73.930180</td>\n",
       "      <td>106.000000</td>\n",
       "      <td>1.000000</td>\n",
       "      <td>0.000000</td>\n",
       "      <td>0.040000</td>\n",
       "      <td>1.000000</td>\n",
       "      <td>0.000000</td>\n",
       "      <td>0.000000</td>\n",
       "      <td>106.000000</td>\n",
       "      <td>0.000000</td>\n",
       "      <td>4.663439</td>\n",
       "      <td>4.663439</td>\n",
       "      <td>7.949264e+01</td>\n",
       "      <td>5.083817e+01</td>\n",
       "    </tr>\n",
       "    <tr>\n",
       "      <th>25%</th>\n",
       "      <td>40.819235</td>\n",
       "      <td>-73.918770</td>\n",
       "      <td>120.000000</td>\n",
       "      <td>1.000000</td>\n",
       "      <td>0.000000</td>\n",
       "      <td>0.260000</td>\n",
       "      <td>1.000000</td>\n",
       "      <td>67.000000</td>\n",
       "      <td>0.000000</td>\n",
       "      <td>125.000000</td>\n",
       "      <td>124.000000</td>\n",
       "      <td>4.787492</td>\n",
       "      <td>4.828314</td>\n",
       "      <td>7.949264e+01</td>\n",
       "      <td>5.083817e+01</td>\n",
       "    </tr>\n",
       "    <tr>\n",
       "      <th>50%</th>\n",
       "      <td>40.833910</td>\n",
       "      <td>-73.885400</td>\n",
       "      <td>146.000000</td>\n",
       "      <td>1.000000</td>\n",
       "      <td>3.000000</td>\n",
       "      <td>0.690000</td>\n",
       "      <td>2.000000</td>\n",
       "      <td>337.000000</td>\n",
       "      <td>1.000000</td>\n",
       "      <td>188.000000</td>\n",
       "      <td>3816.000000</td>\n",
       "      <td>4.983607</td>\n",
       "      <td>5.236442</td>\n",
       "      <td>7.949264e+01</td>\n",
       "      <td>5.083817e+01</td>\n",
       "    </tr>\n",
       "    <tr>\n",
       "      <th>75%</th>\n",
       "      <td>40.851256</td>\n",
       "      <td>-73.858165</td>\n",
       "      <td>177.000000</td>\n",
       "      <td>2.500000</td>\n",
       "      <td>10.500000</td>\n",
       "      <td>1.240000</td>\n",
       "      <td>4.000000</td>\n",
       "      <td>364.000000</td>\n",
       "      <td>5.000000</td>\n",
       "      <td>400.000000</td>\n",
       "      <td>41940.000000</td>\n",
       "      <td>5.176150</td>\n",
       "      <td>5.991465</td>\n",
       "      <td>7.949264e+01</td>\n",
       "      <td>5.083817e+01</td>\n",
       "    </tr>\n",
       "    <tr>\n",
       "      <th>max</th>\n",
       "      <td>40.911380</td>\n",
       "      <td>-73.783320</td>\n",
       "      <td>650.000000</td>\n",
       "      <td>12.000000</td>\n",
       "      <td>83.000000</td>\n",
       "      <td>4.930000</td>\n",
       "      <td>50.000000</td>\n",
       "      <td>365.000000</td>\n",
       "      <td>56.000000</td>\n",
       "      <td>2100.000000</td>\n",
       "      <td>237250.000000</td>\n",
       "      <td>6.476972</td>\n",
       "      <td>7.649693</td>\n",
       "      <td>7.949264e+01</td>\n",
       "      <td>5.083817e+01</td>\n",
       "    </tr>\n",
       "  </tbody>\n",
       "</table>\n",
       "</div>"
      ],
      "text/plain": [
       "        latitude  longitude       price  minimum_nights  number_of_reviews  \\\n",
       "count  87.000000  87.000000   87.000000       87.000000          87.000000   \n",
       "mean   40.838534 -73.884493  165.931034        2.160920           9.954023   \n",
       "std     0.024980   0.036303   89.419288        2.166733          17.162634   \n",
       "min    40.806563 -73.930180  106.000000        1.000000           0.000000   \n",
       "25%    40.819235 -73.918770  120.000000        1.000000           0.000000   \n",
       "50%    40.833910 -73.885400  146.000000        1.000000           3.000000   \n",
       "75%    40.851256 -73.858165  177.000000        2.500000          10.500000   \n",
       "max    40.911380 -73.783320  650.000000       12.000000          83.000000   \n",
       "\n",
       "       reviews_per_month  calculated_host_listings_count  availability_365  \\\n",
       "count          57.000000                       87.000000         87.000000   \n",
       "mean            1.030877                        3.873563        223.839080   \n",
       "std             1.072592                        5.956830        153.997952   \n",
       "min             0.040000                        1.000000          0.000000   \n",
       "25%             0.260000                        1.000000         67.000000   \n",
       "50%             0.690000                        2.000000        337.000000   \n",
       "75%             1.240000                        4.000000        364.000000   \n",
       "max             4.930000                       50.000000        365.000000   \n",
       "\n",
       "       number_of_reviews_ltm          pps  annual_revenue  log_price  \\\n",
       "count              87.000000    87.000000       87.000000  87.000000   \n",
       "mean                4.747126   364.413793    24550.160920   5.035416   \n",
       "std                 9.570082   426.388254    39896.638194   0.343730   \n",
       "min                 0.000000   106.000000        0.000000   4.663439   \n",
       "25%                 0.000000   125.000000      124.000000   4.787492   \n",
       "50%                 1.000000   188.000000     3816.000000   4.983607   \n",
       "75%                 5.000000   400.000000    41940.000000   5.176150   \n",
       "max                56.000000  2100.000000   237250.000000   6.476972   \n",
       "\n",
       "         log_pps  neighborhood_group_room_type_mean  \\\n",
       "count  87.000000                       8.700000e+01   \n",
       "mean    5.503511                       7.949264e+01   \n",
       "std     0.799668                       1.000527e-13   \n",
       "min     4.663439                       7.949264e+01   \n",
       "25%     4.828314                       7.949264e+01   \n",
       "50%     5.236442                       7.949264e+01   \n",
       "75%     5.991465                       7.949264e+01   \n",
       "max     7.649693                       7.949264e+01   \n",
       "\n",
       "       neighborhood_group_room_type_std  \n",
       "count                      8.700000e+01  \n",
       "mean                       5.083817e+01  \n",
       "std                        1.429324e-14  \n",
       "min                        5.083817e+01  \n",
       "25%                        5.083817e+01  \n",
       "50%                        5.083817e+01  \n",
       "75%                        5.083817e+01  \n",
       "max                        5.083817e+01  "
      ]
     },
     "execution_count": 34,
     "metadata": {},
     "output_type": "execute_result"
    }
   ],
   "source": [
    "temp = df[((df['neighbourhood_group']=='Bronx') & (df['is_budget']==False) & (df['room_type']=='Private room'))]\n",
    "temp.describe()"
   ]
  },
  {
   "cell_type": "code",
   "execution_count": 13,
   "id": "b9f64c55-d0a9-4ea4-a909-a158f51edfac",
   "metadata": {},
   "outputs": [],
   "source": [
    "temp2 = df[(df['neighbourhood_group']=='Brooklyn') & (df['is_budget']==False)]"
   ]
  },
  {
   "cell_type": "code",
   "execution_count": 60,
   "id": "0dc4979c-c00d-4948-b805-b1e54fe76140",
   "metadata": {},
   "outputs": [
    {
     "data": {
      "text/html": [
       "<div>\n",
       "<style scoped>\n",
       "    .dataframe tbody tr th:only-of-type {\n",
       "        vertical-align: middle;\n",
       "    }\n",
       "\n",
       "    .dataframe tbody tr th {\n",
       "        vertical-align: top;\n",
       "    }\n",
       "\n",
       "    .dataframe thead th {\n",
       "        text-align: right;\n",
       "    }\n",
       "</style>\n",
       "<table border=\"1\" class=\"dataframe\">\n",
       "  <thead>\n",
       "    <tr style=\"text-align: right;\">\n",
       "      <th></th>\n",
       "      <th>latitude</th>\n",
       "      <th>longitude</th>\n",
       "      <th>price</th>\n",
       "      <th>minimum_nights</th>\n",
       "      <th>number_of_reviews</th>\n",
       "      <th>reviews_per_month</th>\n",
       "      <th>calculated_host_listings_count</th>\n",
       "      <th>availability_365</th>\n",
       "      <th>number_of_reviews_ltm</th>\n",
       "      <th>pps</th>\n",
       "      <th>annual_revenue</th>\n",
       "      <th>log_price</th>\n",
       "      <th>log_pps</th>\n",
       "      <th>neighborhood_group_room_type_mean</th>\n",
       "      <th>neighborhood_group_room_type_std</th>\n",
       "      <th>is_budget</th>\n",
       "      <th>is_luxury</th>\n",
       "    </tr>\n",
       "    <tr>\n",
       "      <th>neighbourhood_group</th>\n",
       "      <th></th>\n",
       "      <th></th>\n",
       "      <th></th>\n",
       "      <th></th>\n",
       "      <th></th>\n",
       "      <th></th>\n",
       "      <th></th>\n",
       "      <th></th>\n",
       "      <th></th>\n",
       "      <th></th>\n",
       "      <th></th>\n",
       "      <th></th>\n",
       "      <th></th>\n",
       "      <th></th>\n",
       "      <th></th>\n",
       "      <th></th>\n",
       "      <th></th>\n",
       "    </tr>\n",
       "  </thead>\n",
       "  <tbody>\n",
       "    <tr>\n",
       "      <th>Bronx</th>\n",
       "      <td>40.848818</td>\n",
       "      <td>-73.880601</td>\n",
       "      <td>118.783740</td>\n",
       "      <td>2.752033</td>\n",
       "      <td>29.965041</td>\n",
       "      <td>1.958975</td>\n",
       "      <td>3.591870</td>\n",
       "      <td>228.665854</td>\n",
       "      <td>12.315447</td>\n",
       "      <td>301.779675</td>\n",
       "      <td>14987.882114</td>\n",
       "      <td>4.596488</td>\n",
       "      <td>5.290459</td>\n",
       "      <td>118.783740</td>\n",
       "      <td>70.207386</td>\n",
       "      <td>0.836585</td>\n",
       "      <td>0.163415</td>\n",
       "    </tr>\n",
       "    <tr>\n",
       "      <th>Brooklyn</th>\n",
       "      <td>40.678328</td>\n",
       "      <td>-73.945886</td>\n",
       "      <td>183.323660</td>\n",
       "      <td>3.680669</td>\n",
       "      <td>40.985841</td>\n",
       "      <td>1.836346</td>\n",
       "      <td>2.941727</td>\n",
       "      <td>159.863328</td>\n",
       "      <td>14.254505</td>\n",
       "      <td>650.804821</td>\n",
       "      <td>35946.325649</td>\n",
       "      <td>4.977150</td>\n",
       "      <td>5.934260</td>\n",
       "      <td>183.323660</td>\n",
       "      <td>139.745569</td>\n",
       "      <td>0.857243</td>\n",
       "      <td>0.142757</td>\n",
       "    </tr>\n",
       "    <tr>\n",
       "      <th>Manhattan</th>\n",
       "      <td>40.763570</td>\n",
       "      <td>-73.975915</td>\n",
       "      <td>328.861275</td>\n",
       "      <td>3.598822</td>\n",
       "      <td>37.017274</td>\n",
       "      <td>1.901614</td>\n",
       "      <td>16.918586</td>\n",
       "      <td>152.669657</td>\n",
       "      <td>14.008972</td>\n",
       "      <td>1020.550750</td>\n",
       "      <td>61038.449250</td>\n",
       "      <td>5.470044</td>\n",
       "      <td>6.332150</td>\n",
       "      <td>328.861275</td>\n",
       "      <td>303.761285</td>\n",
       "      <td>0.817756</td>\n",
       "      <td>0.182244</td>\n",
       "    </tr>\n",
       "    <tr>\n",
       "      <th>Queens</th>\n",
       "      <td>40.719847</td>\n",
       "      <td>-73.847162</td>\n",
       "      <td>143.576988</td>\n",
       "      <td>2.751027</td>\n",
       "      <td>40.014262</td>\n",
       "      <td>2.316898</td>\n",
       "      <td>4.855209</td>\n",
       "      <td>210.542422</td>\n",
       "      <td>16.531545</td>\n",
       "      <td>378.135122</td>\n",
       "      <td>20290.754411</td>\n",
       "      <td>4.754340</td>\n",
       "      <td>5.425242</td>\n",
       "      <td>143.576988</td>\n",
       "      <td>103.430848</td>\n",
       "      <td>0.843606</td>\n",
       "      <td>0.156394</td>\n",
       "    </tr>\n",
       "    <tr>\n",
       "      <th>Staten Island</th>\n",
       "      <td>40.612963</td>\n",
       "      <td>-74.108609</td>\n",
       "      <td>144.540453</td>\n",
       "      <td>3.394822</td>\n",
       "      <td>42.679612</td>\n",
       "      <td>1.947276</td>\n",
       "      <td>2.391586</td>\n",
       "      <td>215.100324</td>\n",
       "      <td>14.598706</td>\n",
       "      <td>440.391586</td>\n",
       "      <td>22492.967638</td>\n",
       "      <td>4.761643</td>\n",
       "      <td>5.618608</td>\n",
       "      <td>144.540453</td>\n",
       "      <td>155.918017</td>\n",
       "      <td>0.896440</td>\n",
       "      <td>0.093851</td>\n",
       "    </tr>\n",
       "  </tbody>\n",
       "</table>\n",
       "</div>"
      ],
      "text/plain": [
       "                      latitude  longitude       price  minimum_nights  \\\n",
       "neighbourhood_group                                                     \n",
       "Bronx                40.848818 -73.880601  118.783740        2.752033   \n",
       "Brooklyn             40.678328 -73.945886  183.323660        3.680669   \n",
       "Manhattan            40.763570 -73.975915  328.861275        3.598822   \n",
       "Queens               40.719847 -73.847162  143.576988        2.751027   \n",
       "Staten Island        40.612963 -74.108609  144.540453        3.394822   \n",
       "\n",
       "                     number_of_reviews  reviews_per_month  \\\n",
       "neighbourhood_group                                         \n",
       "Bronx                        29.965041           1.958975   \n",
       "Brooklyn                     40.985841           1.836346   \n",
       "Manhattan                    37.017274           1.901614   \n",
       "Queens                       40.014262           2.316898   \n",
       "Staten Island                42.679612           1.947276   \n",
       "\n",
       "                     calculated_host_listings_count  availability_365  \\\n",
       "neighbourhood_group                                                     \n",
       "Bronx                                      3.591870        228.665854   \n",
       "Brooklyn                                   2.941727        159.863328   \n",
       "Manhattan                                 16.918586        152.669657   \n",
       "Queens                                     4.855209        210.542422   \n",
       "Staten Island                              2.391586        215.100324   \n",
       "\n",
       "                     number_of_reviews_ltm          pps  annual_revenue  \\\n",
       "neighbourhood_group                                                       \n",
       "Bronx                            12.315447   301.779675    14987.882114   \n",
       "Brooklyn                         14.254505   650.804821    35946.325649   \n",
       "Manhattan                        14.008972  1020.550750    61038.449250   \n",
       "Queens                           16.531545   378.135122    20290.754411   \n",
       "Staten Island                    14.598706   440.391586    22492.967638   \n",
       "\n",
       "                     log_price   log_pps  neighborhood_group_room_type_mean  \\\n",
       "neighbourhood_group                                                           \n",
       "Bronx                 4.596488  5.290459                         118.783740   \n",
       "Brooklyn              4.977150  5.934260                         183.323660   \n",
       "Manhattan             5.470044  6.332150                         328.861275   \n",
       "Queens                4.754340  5.425242                         143.576988   \n",
       "Staten Island         4.761643  5.618608                         144.540453   \n",
       "\n",
       "                     neighborhood_group_room_type_std  is_budget  is_luxury  \n",
       "neighbourhood_group                                                          \n",
       "Bronx                                       70.207386   0.836585   0.163415  \n",
       "Brooklyn                                   139.745569   0.857243   0.142757  \n",
       "Manhattan                                  303.761285   0.817756   0.182244  \n",
       "Queens                                     103.430848   0.843606   0.156394  \n",
       "Staten Island                              155.918017   0.896440   0.093851  "
      ]
     },
     "execution_count": 60,
     "metadata": {},
     "output_type": "execute_result"
    }
   ],
   "source": [
    "df.groupby('neighbourhood_group').mean()"
   ]
  },
  {
   "cell_type": "code",
   "execution_count": 59,
   "id": "eaadfb8d-f2e0-4b15-901b-7d78a3d57ca5",
   "metadata": {},
   "outputs": [
    {
     "data": {
      "text/plain": [
       "<AxesSubplot:xlabel='price', ylabel='Count'>"
      ]
     },
     "execution_count": 59,
     "metadata": {},
     "output_type": "execute_result"
    },
    {
     "data": {
      "image/png": "[encoded data removed]",
      "text/plain": [
       "<Figure size 640x480 with 1 Axes>"
      ]
     },
     "metadata": {},
     "output_type": "display_data"
    }
   ],
   "source": [
    "sns.histplot(brooklyn_home['price'], color='green')"
   ]
  },
  {
   "cell_type": "code",
   "execution_count": 37,
   "id": "4ed88d42-b179-4635-b665-9dced248141f",
   "metadata": {},
   "outputs": [
    {
     "data": {
      "text/plain": [
       "<AxesSubplot:xlabel='price', ylabel='Count'>"
      ]
     },
     "execution_count": 37,
     "metadata": {},
     "output_type": "execute_result"
    },
    {
     "data": {
      "image/png": "[encoded data removed]",
      "text/plain": [
       "<Figure size 640x480 with 1 Axes>"
      ]
     },
     "metadata": {},
     "output_type": "display_data"
    }
   ],
   "source": [
    "sns.histplot(brooklyn_private['price'])"
   ]
  },
  {
   "cell_type": "code",
   "execution_count": 38,
   "id": "9c7015f9-46d1-4e35-8543-8066a0f242a9",
   "metadata": {},
   "outputs": [
    {
     "data": {
      "text/plain": [
       "<AxesSubplot:xlabel='price', ylabel='Count'>"
      ]
     },
     "execution_count": 38,
     "metadata": {},
     "output_type": "execute_result"
    },
    {
     "data": {
      "image/png": "[encoded data removed]",
      "text/plain": [
       "<Figure size 640x480 with 1 Axes>"
      ]
     },
     "metadata": {},
     "output_type": "display_data"
    }
   ],
   "source": [
    "sns.histplot(brooklyn_hotel['price'])\n"
   ]
  },
  {
   "cell_type": "code",
   "execution_count": 39,
   "id": "c60a320d-31f5-427a-a8f6-1d6fd7181107",
   "metadata": {},
   "outputs": [
    {
     "data": {
      "text/plain": [
       "<AxesSubplot:xlabel='price', ylabel='Count'>"
      ]
     },
     "execution_count": 39,
     "metadata": {},
     "output_type": "execute_result"
    },
    {
     "data": {
      "image/png": "[encoded data removed]",
      "text/plain": [
       "<Figure size 640x480 with 1 Axes>"
      ]
     },
     "metadata": {},
     "output_type": "display_data"
    }
   ],
   "source": [
    "sns.histplot(brooklyn_shared['price'])\n"
   ]
  },
  {
   "cell_type": "code",
   "execution_count": 40,
   "id": "a38fb7ca-6e62-4cc9-9fcb-51df1b9c5a7a",
   "metadata": {},
   "outputs": [
    {
     "data": {
      "text/plain": [
       "<AxesSubplot:xlabel='price', ylabel='Count'>"
      ]
     },
     "execution_count": 40,
     "metadata": {},
     "output_type": "execute_result"
    },
    {
     "data": {
      "image/png": "[encoded data removed]",
      "text/plain": [
       "<Figure size 640x480 with 1 Axes>"
      ]
     },
     "metadata": {},
     "output_type": "display_data"
    }
   ],
   "source": [
    "sns.histplot(manhattan_home['price'])\n"
   ]
  },
  {
   "cell_type": "code",
   "execution_count": 43,
   "id": "c78bcd1e-e2e4-4f1c-89fc-efb269f06f07",
   "metadata": {},
   "outputs": [
    {
     "data": {
      "text/plain": [
       "<AxesSubplot:xlabel='price', ylabel='Count'>"
      ]
     },
     "execution_count": 43,
     "metadata": {},
     "output_type": "execute_result"
    },
    {
     "data": {
      "image/png": "[encoded data removed]",
      "text/plain": [
       "<Figure size 640x480 with 1 Axes>"
      ]
     },
     "metadata": {},
     "output_type": "display_data"
    }
   ],
   "source": [
    "sns.histplot(manhattan_private['price'])\n"
   ]
  },
  {
   "cell_type": "code",
   "execution_count": 44,
   "id": "be8f4208-d6bd-479d-acdd-bbc38b0dcc59",
   "metadata": {},
   "outputs": [
    {
     "data": {
      "text/plain": [
       "<AxesSubplot:xlabel='price', ylabel='Count'>"
      ]
     },
     "execution_count": 44,
     "metadata": {},
     "output_type": "execute_result"
    },
    {
     "data": {
      "image/png": "[encoded data removed]",
      "text/plain": [
       "<Figure size 640x480 with 1 Axes>"
      ]
     },
     "metadata": {},
     "output_type": "display_data"
    }
   ],
   "source": [
    "sns.histplot(manhattan_hotel['price'])\n"
   ]
  },
  {
   "cell_type": "code",
   "execution_count": 45,
   "id": "4ebd121f-9703-430c-bef1-94370393080d",
   "metadata": {},
   "outputs": [
    {
     "data": {
      "text/plain": [
       "<AxesSubplot:xlabel='price', ylabel='Count'>"
      ]
     },
     "execution_count": 45,
     "metadata": {},
     "output_type": "execute_result"
    },
    {
     "data": {
      "image/png": "[encoded data removed]",
      "text/plain": [
       "<Figure size 640x480 with 1 Axes>"
      ]
     },
     "metadata": {},
     "output_type": "display_data"
    }
   ],
   "source": [
    "sns.histplot(manhattan_shared['price'])\n"
   ]
  },
  {
   "cell_type": "code",
   "execution_count": 46,
   "id": "b239fab4-447d-4f19-af39-4e4bc8a92612",
   "metadata": {},
   "outputs": [
    {
     "data": {
      "text/plain": [
       "<AxesSubplot:xlabel='price', ylabel='Count'>"
      ]
     },
     "execution_count": 46,
     "metadata": {},
     "output_type": "execute_result"
    },
    {
     "data": {
      "image/png": "[encoded data removed]",
      "text/plain": [
       "<Figure size 640x480 with 1 Axes>"
      ]
     },
     "metadata": {},
     "output_type": "display_data"
    }
   ],
   "source": [
    "sns.histplot(queens_home['price'])\n"
   ]
  },
  {
   "cell_type": "code",
   "execution_count": 47,
   "id": "afe260e3-a2f1-4818-86b9-6e9e8c13ae6a",
   "metadata": {},
   "outputs": [
    {
     "data": {
      "text/plain": [
       "<AxesSubplot:xlabel='price', ylabel='Count'>"
      ]
     },
     "execution_count": 47,
     "metadata": {},
     "output_type": "execute_result"
    },
    {
     "data": {
      "image/png": "[encoded data removed]",
      "text/plain": [
       "<Figure size 640x480 with 1 Axes>"
      ]
     },
     "metadata": {},
     "output_type": "display_data"
    }
   ],
   "source": [
    "sns.histplot(queens_private['price'])\n"
   ]
  },
  {
   "cell_type": "code",
   "execution_count": 48,
   "id": "605e2f5c-90de-49c0-a382-a9042c117188",
   "metadata": {},
   "outputs": [
    {
     "data": {
      "text/plain": [
       "<AxesSubplot:xlabel='price', ylabel='Count'>"
      ]
     },
     "execution_count": 48,
     "metadata": {},
     "output_type": "execute_result"
    },
    {
     "data": {
      "image/png": "[encoded data removed]",
      "text/plain": [
       "<Figure size 640x480 with 1 Axes>"
      ]
     },
     "metadata": {},
     "output_type": "display_data"
    }
   ],
   "source": [
    "sns.histplot(queens_hotel['price'])\n"
   ]
  },
  {
   "cell_type": "code",
   "execution_count": 49,
   "id": "e4c43069-0393-4485-b960-d28792a62d20",
   "metadata": {},
   "outputs": [
    {
     "data": {
      "text/plain": [
       "<AxesSubplot:xlabel='price', ylabel='Count'>"
      ]
     },
     "execution_count": 49,
     "metadata": {},
     "output_type": "execute_result"
    },
    {
     "data": {
      "image/png": "[encoded data removed]",
      "text/plain": [
       "<Figure size 640x480 with 1 Axes>"
      ]
     },
     "metadata": {},
     "output_type": "display_data"
    }
   ],
   "source": [
    "sns.histplot(queens_shared['price'])\n",
    "\n"
   ]
  },
  {
   "cell_type": "code",
   "execution_count": 50,
   "id": "35920869-c194-42d3-a7fe-733716753dcb",
   "metadata": {},
   "outputs": [
    {
     "data": {
      "text/plain": [
       "<AxesSubplot:xlabel='price', ylabel='Count'>"
      ]
     },
     "execution_count": 50,
     "metadata": {},
     "output_type": "execute_result"
    },
    {
     "data": {
      "image/png": "[encoded data removed]",
      "text/plain": [
       "<Figure size 640x480 with 1 Axes>"
      ]
     },
     "metadata": {},
     "output_type": "display_data"
    }
   ],
   "source": [
    "sns.histplot(bronx_home['price'])\n"
   ]
  },
  {
   "cell_type": "code",
   "execution_count": 52,
   "id": "ae15fec1-a977-4144-baa6-6c306e23d6ea",
   "metadata": {},
   "outputs": [
    {
     "data": {
      "text/plain": [
       "<AxesSubplot:xlabel='price', ylabel='Count'>"
      ]
     },
     "execution_count": 52,
     "metadata": {},
     "output_type": "execute_result"
    },
    {
     "data": {
      "image/png": "[encoded data removed]",
      "text/plain": [
       "<Figure size 640x480 with 1 Axes>"
      ]
     },
     "metadata": {},
     "output_type": "display_data"
    }
   ],
   "source": [
    "sns.histplot(bronx_private['price'])\n"
   ]
  },
  {
   "cell_type": "code",
   "execution_count": 54,
   "id": "1ae3ed13-0347-4ace-861a-245c35728e43",
   "metadata": {},
   "outputs": [
    {
     "data": {
      "text/plain": [
       "<AxesSubplot:xlabel='price', ylabel='Count'>"
      ]
     },
     "execution_count": 54,
     "metadata": {},
     "output_type": "execute_result"
    },
    {
     "data": {
      "image/png": "[encoded data removed]",
      "text/plain": [
       "<Figure size 640x480 with 1 Axes>"
      ]
     },
     "metadata": {},
     "output_type": "display_data"
    }
   ],
   "source": [
    "sns.histplot(bronx_shared['price'])\n"
   ]
  },
  {
   "cell_type": "code",
   "execution_count": 55,
   "id": "6717e91e-3c2d-4483-977a-d4d30706e818",
   "metadata": {},
   "outputs": [
    {
     "data": {
      "text/plain": [
       "<AxesSubplot:xlabel='price', ylabel='Count'>"
      ]
     },
     "execution_count": 55,
     "metadata": {},
     "output_type": "execute_result"
    },
    {
     "data": {
      "image/png": "[encoded data removed]",
      "text/plain": [
       "<Figure size 640x480 with 1 Axes>"
      ]
     },
     "metadata": {},
     "output_type": "display_data"
    }
   ],
   "source": [
    "sns.histplot(staten_island_home['price'])\n"
   ]
  },
  {
   "cell_type": "code",
   "execution_count": 56,
   "id": "61f8789c-f97f-4c47-a500-2c328b0800db",
   "metadata": {},
   "outputs": [
    {
     "data": {
      "text/plain": [
       "<AxesSubplot:xlabel='price', ylabel='Count'>"
      ]
     },
     "execution_count": 56,
     "metadata": {},
     "output_type": "execute_result"
    },
    {
     "data": {
      "image/png": "[encoded data removed]",
      "text/plain": [
       "<Figure size 640x480 with 1 Axes>"
      ]
     },
     "metadata": {},
     "output_type": "display_data"
    }
   ],
   "source": [
    "sns.histplot(staten_island_private['price'])\n"
   ]
  },
  {
   "cell_type": "code",
   "execution_count": 58,
   "id": "2ba2adfb-26c3-489b-969a-5e946c6b2cec",
   "metadata": {},
   "outputs": [
    {
     "data": {
      "text/plain": [
       "<AxesSubplot:xlabel='price', ylabel='Count'>"
      ]
     },
     "execution_count": 58,
     "metadata": {},
     "output_type": "execute_result"
    },
    {
     "data": {
      "image/png": "[encoded data removed]",
      "text/plain": [
       "<Figure size 640x480 with 1 Axes>"
      ]
     },
     "metadata": {},
     "output_type": "display_data"
    }
   ],
   "source": [
    "sns.histplot(staten_island_shared['price'])\n"
   ]
  },
  {
   "cell_type": "code",
   "execution_count": null,
   "id": "0fd89967-c9bb-40ee-b781-e8e0ed4f7c73",
   "metadata": {},
   "outputs": [],
   "source": []
  }
 ],
 "metadata": {
  "kernelspec": {
   "display_name": "Python 3 (ipykernel)",
   "language": "python",
   "name": "python3"
  },
  "language_info": {
   "codemirror_mode": {
    "name": "ipython",
    "version": 3
   },
   "file_extension": ".py",
   "mimetype": "text/x-python",
   "name": "python",
   "nbconvert_exporter": "python",
   "pygments_lexer": "ipython3",
   "version": "3.9.13"
  }
 },
 "nbformat": 4,
 "nbformat_minor": 5
}
